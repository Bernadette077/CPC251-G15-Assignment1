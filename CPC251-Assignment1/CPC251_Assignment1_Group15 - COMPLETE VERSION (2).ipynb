{
 "cells": [
  {
   "cell_type": "markdown",
   "metadata": {
    "collapsed": false,
    "jupyter": {
     "outputs_hidden": false
    }
   },
   "source": [
    "Note: Use this template to develop your project. Do not change the steps. For each step, you may add additional cells if needed."
   ]
  },
  {
   "cell_type": "markdown",
   "metadata": {
    "collapsed": false,
    "jupyter": {
     "outputs_hidden": false
    }
   },
   "source": [
    "#### Group Information\n",
    "\n",
    "Group No: 15\n",
    "\n",
    "- Member 1: Bernadette Lee Pei Chen\n",
    "- Member 2: H'ng Sook Wern\n",
    "- Member 3: Lim Chu En\n",
    "- Member 4: Lim Wan Xuan\n",
    "\n"
   ]
  },
  {
   "cell_type": "markdown",
   "metadata": {
    "collapsed": false,
    "jupyter": {
     "outputs_hidden": false
    }
   },
   "source": [
    "#### Import Libraries"
   ]
  },
  {
   "cell_type": "code",
   "execution_count": 1,
   "metadata": {
    "collapsed": false,
    "jupyter": {
     "outputs_hidden": false
    }
   },
   "outputs": [
    {
     "name": "stdout",
     "output_type": "stream",
     "text": [
      "TensorFlow version:  2.10.0\n"
     ]
    }
   ],
   "source": [
    "%config Completer.use_jedi=False\n",
    "import tensorflow as tf\n",
    "import math\n",
    "import numpy as np\n",
    "import pandas as pd\n",
    "from sklearn.metrics import classification_report\n",
    "from sklearn.model_selection import train_test_split\n",
    "import matplotlib.pyplot as plt\n",
    "\n",
    "import warnings\n",
    "warnings.filterwarnings('ignore')\n",
    "\n",
    "print(\"TensorFlow version: \", tf.__version__)\n",
    "\n",
    "tf.random.set_seed(42) # to get same sequence of random numbers across different run\n"
   ]
  },
  {
   "cell_type": "markdown",
   "metadata": {
    "collapsed": false,
    "jupyter": {
     "outputs_hidden": false
    }
   },
   "source": [
    "#### Load the dataset\n",
    "\n"
   ]
  },
  {
   "cell_type": "code",
   "execution_count": 2,
   "metadata": {
    "collapsed": false,
    "jupyter": {
     "outputs_hidden": false
    }
   },
   "outputs": [
    {
     "data": {
      "text/html": [
       "<div>\n",
       "<style scoped>\n",
       "    .dataframe tbody tr th:only-of-type {\n",
       "        vertical-align: middle;\n",
       "    }\n",
       "\n",
       "    .dataframe tbody tr th {\n",
       "        vertical-align: top;\n",
       "    }\n",
       "\n",
       "    .dataframe thead th {\n",
       "        text-align: right;\n",
       "    }\n",
       "</style>\n",
       "<table border=\"1\" class=\"dataframe\">\n",
       "  <thead>\n",
       "    <tr style=\"text-align: right;\">\n",
       "      <th></th>\n",
       "      <th>f1</th>\n",
       "      <th>f2</th>\n",
       "      <th>f3</th>\n",
       "      <th>f4</th>\n",
       "      <th>f5</th>\n",
       "      <th>label</th>\n",
       "    </tr>\n",
       "  </thead>\n",
       "  <tbody>\n",
       "    <tr>\n",
       "      <th>610</th>\n",
       "      <td>-6.859972</td>\n",
       "      <td>-15.663307</td>\n",
       "      <td>-0.583434</td>\n",
       "      <td>0.618841</td>\n",
       "      <td>0.258125</td>\n",
       "      <td>1</td>\n",
       "    </tr>\n",
       "    <tr>\n",
       "      <th>109</th>\n",
       "      <td>0.984928</td>\n",
       "      <td>2.669756</td>\n",
       "      <td>0.933650</td>\n",
       "      <td>11.102167</td>\n",
       "      <td>3.987146</td>\n",
       "      <td>1</td>\n",
       "    </tr>\n",
       "    <tr>\n",
       "      <th>827</th>\n",
       "      <td>0.665580</td>\n",
       "      <td>5.469129</td>\n",
       "      <td>1.314868</td>\n",
       "      <td>-6.386416</td>\n",
       "      <td>6.683482</td>\n",
       "      <td>0</td>\n",
       "    </tr>\n",
       "    <tr>\n",
       "      <th>628</th>\n",
       "      <td>-2.607356</td>\n",
       "      <td>4.734280</td>\n",
       "      <td>4.926534</td>\n",
       "      <td>12.517415</td>\n",
       "      <td>6.434871</td>\n",
       "      <td>1</td>\n",
       "    </tr>\n",
       "    <tr>\n",
       "      <th>334</th>\n",
       "      <td>-2.788583</td>\n",
       "      <td>2.784125</td>\n",
       "      <td>5.231011</td>\n",
       "      <td>11.686818</td>\n",
       "      <td>6.417750</td>\n",
       "      <td>1</td>\n",
       "    </tr>\n",
       "    <tr>\n",
       "      <th>716</th>\n",
       "      <td>5.064673</td>\n",
       "      <td>-5.806657</td>\n",
       "      <td>11.314134</td>\n",
       "      <td>3.803039</td>\n",
       "      <td>3.780178</td>\n",
       "      <td>1</td>\n",
       "    </tr>\n",
       "    <tr>\n",
       "      <th>923</th>\n",
       "      <td>-5.917825</td>\n",
       "      <td>3.399892</td>\n",
       "      <td>18.297383</td>\n",
       "      <td>0.171757</td>\n",
       "      <td>-0.201234</td>\n",
       "      <td>0</td>\n",
       "    </tr>\n",
       "    <tr>\n",
       "      <th>392</th>\n",
       "      <td>0.117614</td>\n",
       "      <td>-14.464385</td>\n",
       "      <td>8.827609</td>\n",
       "      <td>-6.221848</td>\n",
       "      <td>9.122022</td>\n",
       "      <td>1</td>\n",
       "    </tr>\n",
       "    <tr>\n",
       "      <th>765</th>\n",
       "      <td>2.931774</td>\n",
       "      <td>6.332732</td>\n",
       "      <td>3.029245</td>\n",
       "      <td>-3.199153</td>\n",
       "      <td>6.814118</td>\n",
       "      <td>0</td>\n",
       "    </tr>\n",
       "    <tr>\n",
       "      <th>936</th>\n",
       "      <td>1.975785</td>\n",
       "      <td>-4.468042</td>\n",
       "      <td>7.063273</td>\n",
       "      <td>4.437511</td>\n",
       "      <td>5.278694</td>\n",
       "      <td>1</td>\n",
       "    </tr>\n",
       "  </tbody>\n",
       "</table>\n",
       "</div>"
      ],
      "text/plain": [
       "           f1         f2         f3         f4        f5  label\n",
       "610 -6.859972 -15.663307  -0.583434   0.618841  0.258125      1\n",
       "109  0.984928   2.669756   0.933650  11.102167  3.987146      1\n",
       "827  0.665580   5.469129   1.314868  -6.386416  6.683482      0\n",
       "628 -2.607356   4.734280   4.926534  12.517415  6.434871      1\n",
       "334 -2.788583   2.784125   5.231011  11.686818  6.417750      1\n",
       "716  5.064673  -5.806657  11.314134   3.803039  3.780178      1\n",
       "923 -5.917825   3.399892  18.297383   0.171757 -0.201234      0\n",
       "392  0.117614 -14.464385   8.827609  -6.221848  9.122022      1\n",
       "765  2.931774   6.332732   3.029245  -3.199153  6.814118      0\n",
       "936  1.975785  -4.468042   7.063273   4.437511  5.278694      1"
      ]
     },
     "execution_count": 2,
     "metadata": {},
     "output_type": "execute_result"
    }
   ],
   "source": [
    "dataset = pd.read_csv('classification_dataset.csv')\n",
    "dataset.sample(10)"
   ]
  },
  {
   "cell_type": "code",
   "execution_count": 3,
   "metadata": {
    "collapsed": false,
    "jupyter": {
     "outputs_hidden": false
    }
   },
   "outputs": [
    {
     "data": {
      "text/plain": [
       "(1000, 6)"
      ]
     },
     "execution_count": 3,
     "metadata": {},
     "output_type": "execute_result"
    }
   ],
   "source": [
    "dataset.shape"
   ]
  },
  {
   "cell_type": "code",
   "execution_count": 4,
   "metadata": {
    "collapsed": false,
    "jupyter": {
     "outputs_hidden": false
    }
   },
   "outputs": [
    {
     "name": "stdout",
     "output_type": "stream",
     "text": [
      "(1000, 5)\n",
      "(1000,)\n"
     ]
    }
   ],
   "source": [
    "X = dataset.drop(columns = ['label'])\n",
    "y = dataset['label']\n",
    "\n",
    "print(X.shape)\n",
    "print(y.shape)\n"
   ]
  },
  {
   "cell_type": "markdown",
   "metadata": {
    "collapsed": false,
    "jupyter": {
     "outputs_hidden": false
    }
   },
   "source": [
    "#### Define the loss function\n",
    "\n"
   ]
  },
  {
   "cell_type": "code",
   "execution_count": 5,
   "metadata": {
    "collapsed": false,
    "jupyter": {
     "outputs_hidden": false
    }
   },
   "outputs": [],
   "source": [
    "def loss_fn(y_test, y_pred):\n",
    "    # Reshape the y_pred to one-dimensional tensor     \n",
    "    y_pred = tf.reshape(y_pred,[-1])\n",
    "    \n",
    "    loss = - tf.reduce_mean((y_test * tf.math.log(y_pred)) + ((1 - y_test) * tf.math.log(1 - y_pred)))\n",
    "    return loss"
   ]
  },
  {
   "cell_type": "markdown",
   "metadata": {
    "collapsed": false,
    "jupyter": {
     "outputs_hidden": false
    }
   },
   "source": [
    "#### Define function to perform prediction"
   ]
  },
  {
   "cell_type": "code",
   "execution_count": 6,
   "metadata": {
    "collapsed": false,
    "jupyter": {
     "outputs_hidden": false
    }
   },
   "outputs": [],
   "source": [
    "def sigmoid(x):\n",
    "    exp = tf.math.exp(-x)\n",
    "    return 1 / (1 + exp)"
   ]
  },
  {
   "cell_type": "code",
   "execution_count": 7,
   "metadata": {
    "collapsed": false,
    "jupyter": {
     "outputs_hidden": false
    }
   },
   "outputs": [],
   "source": [
    "def relu(x):\n",
    "    return tf.maximum(0.0, x)"
   ]
  },
  {
   "cell_type": "code",
   "execution_count": 8,
   "metadata": {
    "collapsed": false,
    "jupyter": {
     "outputs_hidden": false
    }
   },
   "outputs": [],
   "source": [
    "def forward(inputs, weights, biases):\n",
    "\n",
    "    weight_hidden, weight_output = weights\n",
    "    bias_hidden, bias_output= biases\n",
    "\n",
    "    inputs = tf.convert_to_tensor(inputs, dtype=tf.float32)\n",
    "    \n",
    "    inner_prdt = tf.matmul(inputs ,tf.transpose(weight_hidden)) + tf.transpose(bias_hidden)\n",
    "    act_inner_prdt = relu(inner_prdt)\n",
    "    \n",
    "    output = tf.matmul(act_inner_prdt, tf.transpose(weight_output)) + bias_output\n",
    "    act_output = sigmoid(output)\n",
    "\n",
    "    return act_output"
   ]
  },
  {
   "cell_type": "markdown",
   "metadata": {
    "collapsed": false,
    "jupyter": {
     "outputs_hidden": false
    }
   },
   "source": [
    "#### Define function for model training\n",
    "\n",
    "Display the training and validation loss values for each epoch of the training loop. The displayed value must be in 6 decimal places.<br>\n",
    "Hint: <br>\n",
    "Use `tf.GradientTape` to compute the gradients.\n",
    "\n"
   ]
  },
  {
   "cell_type": "code",
   "execution_count": 9,
   "metadata": {
    "collapsed": false,
    "jupyter": {
     "outputs_hidden": false
    }
   },
   "outputs": [],
   "source": [
    "def train(inputs, y_true, weights, biases, learning_rate, epochs, batch_size, val_data, patience):\n",
    "    \"\"\" \n",
    "    This function performs the training using mini-batch gradient descent and implements early stopping.\n",
    "    \"\"\"\n",
    "    best_weights = weights  # Initialize the best weights\n",
    "    best_biases = biases  # Initialize the best biases\n",
    "    min_loss = np.inf  # Initialize the minimum loss\n",
    "    patience_cnt = 0  # Initialize patience counter\n",
    "\n",
    "    # Lists to store loss values\n",
    "    train_losses = []\n",
    "    val_losses = []\n",
    "\n",
    "    for epoch in range(epochs):\n",
    "        # For mini-batch gradient descent\n",
    "        # Generates an array of indices in random order\n",
    "        batch_idx = np.random.permutation(len(inputs))\n",
    "\n",
    "        # Shuffle inputs and y_true\n",
    "        inputs_shf = inputs[batch_idx]\n",
    "        y_true_shf = y_true[batch_idx]\n",
    "        \n",
    "        # Call fit function for each epoch\n",
    "        best_weights, best_biases, train_loss, val_loss = fit(inputs_shf, y_true_shf, weights, biases,\n",
    "                                                              learning_rate, batch_size, val_data)\n",
    "        train_losses.append(train_loss)\n",
    "        val_losses.append(val_loss)\n",
    "\n",
    "        # Print out the training loss and validation loss for each epoch\n",
    "        print(\"Epoch: \", epoch, \" Training loss: \", train_loss.numpy(), \" Validation loss: \", val_loss.numpy())\n",
    "\n",
    "        # Round up the each value of validation loss to two decimal places\n",
    "        val_loss = round(val_loss.numpy(), 2)\n",
    "\n",
    "        # Early stopping\n",
    "        if val_loss < min_loss:\n",
    "            min_loss = val_loss\n",
    "            patience_cnt = 0\n",
    "        else:\n",
    "            patience_cnt += 1\n",
    "            if patience_cnt >= patience:\n",
    "                print(f\"Early stopping on epoch {epoch}\")\n",
    "                break\n",
    "\n",
    "    return best_weights, best_biases, train_losses, val_losses\n",
    "\n",
    "\n",
    "def fit(inputs, y_true, weights, biases, learning_rate, batch_size, val_data):\n",
    "    \"\"\"\n",
    "    This function performs one epoch of training using mini-batch gradient descent.\n",
    "    \"\"\"\n",
    "    epoch_loss = 0.0\n",
    "\n",
    "    for i in range(0, len(inputs), batch_size):\n",
    "        bth_inputs = inputs[i:i + batch_size]\n",
    "        bth_y_true = y_true[i:i + batch_size]\n",
    "\n",
    "        with tf.GradientTape() as tape:\n",
    "            tape.watch(weights)\n",
    "            tape.watch(biases)\n",
    "            y_pred = forward(bth_inputs, weights, biases)  # Forward pass\n",
    "            loss = loss_fn(bth_y_true, y_pred)  # Compute loss\n",
    "\n",
    "        gradients = tape.gradient(loss, [weights, biases])  # Compute gradients\n",
    "\n",
    "\n",
    "        # Update weights and biases\n",
    "        weights[0] = weights[0] - learning_rate * gradients[0][0]\n",
    "        weights[1] = weights[1] - learning_rate * gradients[0][1]\n",
    "        biases[0] = biases[0] - learning_rate * gradients[1][0]\n",
    "        biases[1] = biases[1] - learning_rate * gradients[1][1]\n",
    "\n",
    "        epoch_loss += loss\n",
    "\n",
    "    avg_epoch_loss = epoch_loss / (len(inputs) / batch_size)\n",
    "\n",
    "    # Validation\n",
    "    y_val_pred = forward(val_data[0], weights, biases)\n",
    "    val_loss = loss_fn(val_data[1], y_val_pred)\n",
    "\n",
    "    return weights, biases, avg_epoch_loss, val_loss\n"
   ]
  },
  {
   "cell_type": "markdown",
   "metadata": {
    "collapsed": false,
    "jupyter": {
     "outputs_hidden": false
    }
   },
   "source": [
    "#### Define the tensors to hold the weights and biases (create the model)\n",
    "\n",
    "Hint: <br>\n",
    "Use `tf.Variable` to create the tensors.<br>\n",
    "Put the tensors in a list.\n",
    "\n"
   ]
  },
  {
   "cell_type": "code",
   "execution_count": 10,
   "metadata": {
    "collapsed": false,
    "jupyter": {
     "outputs_hidden": false
    }
   },
   "outputs": [],
   "source": [
    "# Define the number of neurons in each layer\n",
    "input_size = 5 \n",
    "hidden_size = 20  # Assuming hidden layer size is 20\n",
    "output_size = 1  # Assuming output size is 1\n",
    "\n",
    "# Define the weights and biases as tf.Variables\n",
    "# Weights and biases for the hidden layer\n",
    "weight_hidden = tf.Variable(tf.random.normal([hidden_size, input_size]), name='weight_hidden')\n",
    "bias_hidden = tf.Variable(tf.zeros([hidden_size, 1]), name='bias_hidden')\n",
    "\n",
    "# Weights and biases for the output layer\n",
    "weight_output = tf.Variable(tf.random.normal([output_size, hidden_size]), name='weight_output')\n",
    "bias_output = tf.Variable(tf.zeros([output_size, 1]), name='bias_output')\n",
    "\n",
    "# Put the tensors in a list\n",
    "weights = [weight_hidden, weight_output]\n",
    "biases = [bias_hidden, bias_output]"
   ]
  },
  {
   "cell_type": "markdown",
   "metadata": {
    "collapsed": false,
    "jupyter": {
     "outputs_hidden": false
    }
   },
   "source": [
    "#### Split the dataset\n",
    "The ratio of training and test is 7:1:2."
   ]
  },
  {
   "cell_type": "code",
   "execution_count": 11,
   "metadata": {
    "collapsed": false,
    "jupyter": {
     "outputs_hidden": false
    }
   },
   "outputs": [
    {
     "name": "stdout",
     "output_type": "stream",
     "text": [
      "(700, 5)\n",
      "(700,)\n",
      "(100, 5)\n",
      "(100,)\n",
      "(200, 5)\n",
      "(200,)\n"
     ]
    },
    {
     "data": {
      "text/plain": [
       "(None, None)"
      ]
     },
     "execution_count": 11,
     "metadata": {},
     "output_type": "execute_result"
    }
   ],
   "source": [
    "from sklearn.model_selection import train_test_split\n",
    "\n",
    "# training, validation and test ratio: 7:1:2\n",
    "\n",
    "# Split the data in training and and test set first\n",
    "X_train, X_test, y_train, y_test = train_test_split(X,y, train_size=0.7) \n",
    "\n",
    "# For the test set, split the data so that 2/3 are test set and 1/3 are validation set\n",
    "X_val, X_test, y_val, y_test = train_test_split(X_test, y_test, test_size=2/3)\n",
    "\n",
    "# Print the shape for X and y of training, validation and test set\n",
    "print(X_train.shape), print(y_train.shape)\n",
    "print(X_val.shape), print(y_val.shape)\n",
    "print(X_test.shape), print(y_test.shape)"
   ]
  },
  {
   "cell_type": "code",
   "execution_count": 12,
   "metadata": {
    "collapsed": false,
    "jupyter": {
     "outputs_hidden": false
    }
   },
   "outputs": [],
   "source": [
    "# Convert y_train, y_val and y_test to numpy array\n",
    "y_train = y_train.to_numpy()\n",
    "y_val = y_val.to_numpy()\n",
    "y_test = y_test.to_numpy()"
   ]
  },
  {
   "cell_type": "markdown",
   "metadata": {
    "collapsed": false,
    "jupyter": {
     "outputs_hidden": false
    }
   },
   "source": [
    "#### Normalize the data\n",
    "\n"
   ]
  },
  {
   "cell_type": "code",
   "execution_count": 13,
   "metadata": {
    "collapsed": false,
    "jupyter": {
     "outputs_hidden": false
    }
   },
   "outputs": [
    {
     "name": "stdout",
     "output_type": "stream",
     "text": [
      "(700, 5)\n",
      "(700,)\n",
      "(100, 5)\n",
      "(100,)\n",
      "(200, 5)\n",
      "(200,)\n"
     ]
    },
    {
     "data": {
      "text/plain": [
       "(None, None)"
      ]
     },
     "execution_count": 13,
     "metadata": {},
     "output_type": "execute_result"
    }
   ],
   "source": [
    "from sklearn.preprocessing import StandardScaler\n",
    "\n",
    "# Create a StandardScaler object\n",
    "scaler = StandardScaler()\n",
    "\n",
    "# Fit the scaler to the training data and transform it\n",
    "X_train = scaler.fit_transform(X_train)\n",
    "\n",
    "# Transform the validation and test data using the scaler fitted on the training data\n",
    "X_val = scaler.transform(X_val)\n",
    "X_test = scaler.transform(X_test)\n",
    "\n",
    "print(X_train.shape), print(y_train.shape)\n",
    "print(X_val.shape), print(y_val.shape)\n",
    "print(X_test.shape), print(y_test.shape)"
   ]
  },
  {
   "cell_type": "markdown",
   "metadata": {
    "collapsed": false,
    "jupyter": {
     "outputs_hidden": false
    }
   },
   "source": [
    "#### Train the model"
   ]
  },
  {
   "cell_type": "code",
   "execution_count": 14,
   "metadata": {},
   "outputs": [
    {
     "name": "stdout",
     "output_type": "stream",
     "text": [
      "Epoch:  0  Training loss:  5.2390842  Validation loss:  3.1110363\n",
      "Epoch:  1  Training loss:  3.865984  Validation loss:  2.233226\n",
      "Epoch:  2  Training loss:  2.6738768  Validation loss:  1.6263348\n",
      "Epoch:  3  Training loss:  1.8881066  Validation loss:  1.1971382\n",
      "Epoch:  4  Training loss:  1.3997742  Validation loss:  0.8952988\n",
      "Epoch:  5  Training loss:  1.0457753  Validation loss:  0.68691885\n",
      "Epoch:  6  Training loss:  0.78200203  Validation loss:  0.554328\n",
      "Epoch:  7  Training loss:  0.65229726  Validation loss:  0.4636137\n",
      "Epoch:  8  Training loss:  0.51089483  Validation loss:  0.40620032\n",
      "Epoch:  9  Training loss:  0.44840804  Validation loss:  0.36345345\n",
      "Epoch:  10  Training loss:  0.39718738  Validation loss:  0.32997632\n",
      "Epoch:  11  Training loss:  0.34102467  Validation loss:  0.30538806\n",
      "Epoch:  12  Training loss:  0.33901295  Validation loss:  0.28364736\n",
      "Epoch:  13  Training loss:  0.31118894  Validation loss:  0.26463425\n",
      "Epoch:  14  Training loss:  0.284895  Validation loss:  0.24689665\n",
      "Epoch:  15  Training loss:  0.28866974  Validation loss:  0.23280804\n",
      "Epoch:  16  Training loss:  0.26660195  Validation loss:  0.21964039\n",
      "Epoch:  17  Training loss:  0.23158155  Validation loss:  0.20916618\n",
      "Epoch:  18  Training loss:  0.24775921  Validation loss:  0.19959451\n",
      "Epoch:  19  Training loss:  0.23654401  Validation loss:  0.19128644\n",
      "Epoch:  20  Training loss:  0.22603665  Validation loss:  0.18317182\n",
      "Epoch:  21  Training loss:  0.21170132  Validation loss:  0.17522855\n",
      "Epoch:  22  Training loss:  0.21103238  Validation loss:  0.16880634\n",
      "Epoch:  23  Training loss:  0.18327658  Validation loss:  0.16368626\n",
      "Epoch:  24  Training loss:  0.18583557  Validation loss:  0.15759785\n",
      "Epoch:  25  Training loss:  0.19388014  Validation loss:  0.152416\n",
      "Epoch:  26  Training loss:  0.20415302  Validation loss:  0.14781296\n",
      "Epoch:  27  Training loss:  0.18196072  Validation loss:  0.14265119\n",
      "Epoch:  28  Training loss:  0.17101  Validation loss:  0.13832858\n",
      "Epoch:  29  Training loss:  0.19424729  Validation loss:  0.13375081\n",
      "Epoch:  30  Training loss:  0.15725227  Validation loss:  0.13029827\n",
      "Epoch:  31  Training loss:  0.17132519  Validation loss:  0.12702698\n",
      "Epoch:  32  Training loss:  0.16026545  Validation loss:  0.1237525\n",
      "Epoch:  33  Training loss:  0.18049385  Validation loss:  0.119916365\n",
      "Epoch:  34  Training loss:  0.18034412  Validation loss:  0.11704013\n",
      "Epoch:  35  Training loss:  0.15525866  Validation loss:  0.1144069\n",
      "Epoch:  36  Training loss:  0.1460712  Validation loss:  0.11197476\n",
      "Epoch:  37  Training loss:  0.13899392  Validation loss:  0.10900583\n",
      "Epoch:  38  Training loss:  0.13904396  Validation loss:  0.106215544\n",
      "Epoch:  39  Training loss:  0.17197302  Validation loss:  0.10421643\n",
      "Epoch:  40  Training loss:  0.17455319  Validation loss:  0.10255498\n",
      "Epoch:  41  Training loss:  0.15952651  Validation loss:  0.1009089\n",
      "Epoch:  42  Training loss:  0.13671166  Validation loss:  0.09832948\n",
      "Epoch:  43  Training loss:  0.15116699  Validation loss:  0.09608388\n",
      "Epoch:  44  Training loss:  0.17343731  Validation loss:  0.094346344\n",
      "Epoch:  45  Training loss:  0.15911809  Validation loss:  0.09330317\n",
      "Epoch:  46  Training loss:  0.13837549  Validation loss:  0.09187749\n",
      "Epoch:  47  Training loss:  0.14887556  Validation loss:  0.08983102\n",
      "Epoch:  48  Training loss:  0.12939419  Validation loss:  0.08783375\n",
      "Epoch:  49  Training loss:  0.13651007  Validation loss:  0.08638046\n",
      "Early stopping on epoch 49\n"
     ]
    }
   ],
   "source": [
    "# Train the model with hyperparameter below\n",
    "# learning_rate = 0.1\n",
    "# epoch = 100\n",
    "# batch_size = 500 (For mini batch gradient descent)\n",
    "# patience = 5 (For early stopping regularization)\n",
    "best_weights, best_biases, train_losses, val_losses = train(X_train, y_train, weights, biases, 0.1, 100, 500, (X_val, y_val), 5)"
   ]
  },
  {
   "cell_type": "markdown",
   "metadata": {
    "collapsed": false,
    "jupyter": {
     "outputs_hidden": false
    }
   },
   "source": [
    "#### Display the training loss and validation loss against epoch graph"
   ]
  },
  {
   "cell_type": "code",
   "execution_count": 15,
   "metadata": {
    "collapsed": false,
    "jupyter": {
     "outputs_hidden": false
    }
   },
   "outputs": [
    {
     "data": {
      "image/png": "[encoded data removed]",
      "text/plain": [
       "<Figure size 1000x600 with 1 Axes>"
      ]
     },
     "metadata": {},
     "output_type": "display_data"
    }
   ],
   "source": [
    "epochs = range(1, len(train_losses) + 1)\n",
    "plt.figure(figsize=(10, 6))\n",
    "plt.plot(epochs, train_losses, label='Training Loss')\n",
    "plt.plot(epochs, val_losses, label='Validation Loss')\n",
    "plt.xlabel('Epoch')\n",
    "plt.ylabel('Loss')\n",
    "plt.title('Training and Validation Loss')\n",
    "plt.legend()\n",
    "plt.grid(True)\n",
    "plt.show()\n"
   ]
  },
  {
   "cell_type": "markdown",
   "metadata": {
    "collapsed": false,
    "jupyter": {
     "outputs_hidden": false
    }
   },
   "source": [
    "#### Predict the test set"
   ]
  },
  {
   "cell_type": "code",
   "execution_count": 16,
   "metadata": {
    "collapsed": false,
    "jupyter": {
     "outputs_hidden": false
    }
   },
   "outputs": [],
   "source": [
    "y_pred = forward(X_test, best_weights, best_biases)"
   ]
  },
  {
   "cell_type": "markdown",
   "metadata": {
    "collapsed": false,
    "jupyter": {
     "outputs_hidden": false
    }
   },
   "source": [
    "#### Display the confusion matrix and the classification report."
   ]
  },
  {
   "cell_type": "code",
   "execution_count": 17,
   "metadata": {
    "collapsed": false,
    "jupyter": {
     "outputs_hidden": false
    }
   },
   "outputs": [
    {
     "name": "stdout",
     "output_type": "stream",
     "text": [
      "              precision    recall  f1-score   support\n",
      "\n",
      "           0       0.99      0.98      0.99       103\n",
      "           1       0.98      0.99      0.98        97\n",
      "\n",
      "    accuracy                           0.98       200\n",
      "   macro avg       0.98      0.99      0.98       200\n",
      "weighted avg       0.99      0.98      0.99       200\n",
      "\n",
      "Confusion Matrix:\n",
      " [[101   2]\n",
      " [  1  96]]\n"
     ]
    }
   ],
   "source": [
    "from sklearn.metrics import confusion_matrix\n",
    "\n",
    "# Apply thresholding to convert continuous predictions into binary class labels\n",
    "y_pred_binary = tf.cast(tf.math.greater(y_pred, 0.5), tf.int32)\n",
    "\n",
    "print(classification_report(y_test, y_pred_binary.numpy()))\n",
    "print(\"Confusion Matrix:\\n\", confusion_matrix(y_test, y_pred_binary.numpy()))\n"
   ]
  }
 ],
 "metadata": {
  "kernelspec": {
   "display_name": "Python 3 (ipykernel)",
   "language": "python",
   "name": "python3"
  },
  "language_info": {
   "codemirror_mode": {
    "name": "ipython",
    "version": 3
   },
   "file_extension": ".py",
   "mimetype": "text/x-python",
   "name": "python",
   "nbconvert_exporter": "python",
   "pygments_lexer": "ipython3",
   "version": "3.10.13"
  }
 },
 "nbformat": 4,
 "nbformat_minor": 4
}
